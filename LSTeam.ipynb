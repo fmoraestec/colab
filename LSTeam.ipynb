{
  "nbformat": 4,
  "nbformat_minor": 0,
  "metadata": {
    "colab": {
      "name": "LSTeam.ipynb",
      "provenance": [],
      "collapsed_sections": [],
      "toc_visible": true
    },
    "kernelspec": {
      "name": "python3",
      "display_name": "Python 3"
    }
  },
  "cells": [
    {
      "cell_type": "markdown",
      "metadata": {
        "id": "_gQ4skFbto_I"
      },
      "source": [
        "# Indice\n",
        "\n",
        "  [Links](#Links \"Links\") <br>\n",
        "\n",
        "  [ISPF](#ISPF \"ISPF\") <br>\n",
        "\n",
        "## Sistemas\n",
        "\n",
        "  [US] DC US\n",
        "\n",
        "  [EU] DC EU\n",
        "\n",
        "  [CH] DC CH\n",
        "\n",
        "## Novos Contratos  \n",
        "\n",
        "  [] Request\n",
        "\n",
        "  [] SPECIAL\n",
        "\n",
        "## Comandos\n",
        "\n",
        "  [SDSF] SDSF\n",
        "\n",
        "  [Procedimentos] Procedimentos\n",
        "\n",
        "## Atalhos\n",
        "\n",
        "\n",
        "## Conectar em Grupos\n",
        "\n",
        "  [Conectar]  Conectar em Grupos\n",
        "\n",
        "  [Alterar]\n",
        "\n",
        "## RACF\n",
        "\n",
        "  [] Comandos RACF\n",
        "\n",
        "  []\n",
        "\n",
        "## Procedimentos\n",
        "\n",
        "  [] Novo DC\n",
        "\n",
        "\n"
      ]
    },
    {
      "cell_type": "markdown",
      "metadata": {
        "id": "8FJfZWWpgT9V"
      },
      "source": [
        "## Links Uteis\n",
        "\n",
        "[IBM](https://w3.ibm.com/#/)\n",
        "\n",
        "[Bluepages](https://w3.ibm.com/bluepages/)\n",
        "\n",
        "[Box](https://ibm.ent.box.com/folder/118326539833?s=t6csb9tbdg2u4etr24wrf36lmtngelck&utm_campaign=collab%20auto%20accept%20user&utm_medium=email&utm_source=trans)\n",
        "\n",
        "[Jira](https://jsw.ibm.com/secure/RapidBoard.jspa?rapidView=28340&projectKey=GISIAM&selectedIssue=GISIAM-98)\n",
        "\n",
        "[Certponto](https://trabalhador.certponto.com.br/#/home)\n",
        "\n",
        "[CLAIM](https://labor.sdi.br.ibm.com/labor-advisor/dashboard/country/631/employee/002943/confrontation)\n",
        "\n",
        "[Outlook](https://mail.gmx.ibm.com/owa/)\n",
        "\n",
        "[Beneficios](https://ibm.tbs.aon.com/?session=TIMEOUT)\n",
        "\n",
        "[Tradutor](https://asg66.sl.cloud9.ibm.com:8444/#)"
      ]
    },
    {
      "cell_type": "markdown",
      "metadata": {
        "id": "GeES2TC1uDOD"
      },
      "source": [
        ""
      ]
    },
    {
      "cell_type": "markdown",
      "metadata": {
        "id": "CvvQRgIDATln"
      },
      "source": [
        "## Programas\n",
        "\n",
        "[IBM Store](https://w3-01.ibm.com/download/standardsoftware/PC/lang_en/issiCatalogPC.html)\n",
        "\n",
        "Slack\n",
        "\n",
        "Cisco Webex\n",
        "\n",
        "Outlook\n",
        "\n"
      ]
    },
    {
      "cell_type": "markdown",
      "metadata": {
        "id": "McWa39bV2V73"
      },
      "source": [
        "## Sistemas"
      ]
    },
    {
      "cell_type": "markdown",
      "metadata": {
        "id": "vfsZqcW14HVV"
      },
      "source": [
        " ### [EMEA - z/OS](https://ibm.box.com/s/j6xgivxacbhd2om59405j68n7zfxuxt8)\n"
      ]
    },
    {
      "cell_type": "markdown",
      "metadata": {
        "id": "xvNwG07N4JE0"
      },
      "source": [
        "### [EMEA - Z/VM](https://ibm.box.com/s/w4jjcs3ri57262ayafk0f913vqx53ssx)"
      ]
    },
    {
      "cell_type": "markdown",
      "metadata": {
        "id": "sz1D-zT54L4-"
      },
      "source": [
        "\n",
        "  ### [US - New DC - Z/OS](https://ibm.box.com/s/9iann9ky6x3rtqbni3wljadlfi3kybn9)"
      ]
    },
    {
      "cell_type": "markdown",
      "metadata": {
        "id": "wxWmpt9K2otV"
      },
      "source": [
        "[Baseline](https://ibm.ent.box.com/folder/125177316190?s=o05v6imqm1j27bmcpym4haxn6901jxvl)"
      ]
    },
    {
      "cell_type": "markdown",
      "metadata": {
        "id": "IqlbopZw2Yvo"
      },
      "source": [
        "## Novos Contratados"
      ]
    },
    {
      "cell_type": "markdown",
      "metadata": {
        "id": "yrOA2cAJ5jdo"
      },
      "source": [
        "### Solicitar ID's\n",
        "\n",
        "Os id's devem ser solicitados nesse sistema: [EMEAVM1](https://ibm.box.com/s/n2hak6lrujajovztg280gmfa3g1wchjp)"
      ]
    },
    {
      "cell_type": "markdown",
      "metadata": {
        "id": "umu6aeJcXkw0"
      },
      "source": [
        "### Como solicitar id"
      ]
    },
    {
      "cell_type": "markdown",
      "metadata": {
        "id": "5GY_pCqn5pEY"
      },
      "source": [
        "### Solicitar SPECIAL"
      ]
    },
    {
      "cell_type": "markdown",
      "metadata": {
        "id": "0eg-Yup3O0tq"
      },
      "source": [
        "### Solicitar Caixas Funcionais"
      ]
    },
    {
      "cell_type": "markdown",
      "metadata": {
        "id": "fpSPuVIkIUhz"
      },
      "source": [
        "## Formularios\n"
      ]
    },
    {
      "cell_type": "code",
      "metadata": {
        "id": "7CvUeAUUIceP"
      },
      "source": [
        "#@title Example form fields\n",
        "#@markdown Forms support many types of fields.\n",
        "\n",
        "no_type_checking = ''  #@param\n",
        "string_type = 'example'  #@param {type: \"string\"}\n",
        "slider_value = 142  #@param {type: \"slider\", min: 100, max: 200}\n",
        "number = 102  #@param {type: \"number\"}\n",
        "date = '2010-11-05'  #@param {type: \"date\"}\n",
        "pick_me = \"monday\"  #@param ['monday', 'tuesday', 'wednesday', 'thursday']\n",
        "select_or_input = \"apples\" #@param [\"apples\", \"bananas\", \"oranges\"] {allow-input: true}\n",
        "#@markdown ---\n"
      ],
      "execution_count": null,
      "outputs": []
    },
    {
      "cell_type": "markdown",
      "metadata": {
        "id": "DBRuzw75IfKh"
      },
      "source": [
        "## Codigos Ocultos"
      ]
    },
    {
      "cell_type": "code",
      "metadata": {
        "id": "kdmIUfMKIj6i"
      },
      "source": [
        "#@title Give me a name {display-mode: \"form\"}\n",
        "\n",
        "# This code will be hidden when the notebook is loaded.\n"
      ],
      "execution_count": null,
      "outputs": []
    },
    {
      "cell_type": "markdown",
      "metadata": {
        "id": "8vzmGi8Du3Fc"
      },
      "source": [
        "## ISPF\n",
        "\n",
        "[Indice](#Indice \"Indice\") <br>"
      ]
    },
    {
      "cell_type": "markdown",
      "metadata": {
        "id": "GLApGzwg79du"
      },
      "source": [
        "### Lista de Comandos\n",
        "\n",
        "b -> browse (visualizar um dataset)\n",
        "\n",
        "e -> edit (editar um dataset)\n",
        "\n",
        "cX -> copiar X linhas\n",
        "\n",
        "cc -> copiar de um ponto a outro\n",
        "\n",
        "dX -> deletar X linha\n",
        "\n",
        "dd -> deletar de um ponto a outro\n",
        "\n",
        "i -> adcionar linha\n",
        "\n",
        "iX -> adicionar X linhas\n",
        "\n",
        "f -> procurar localizar\n",
        "\n",
        "l -> listar\n",
        "\n",
        "create XXXXXX -> cria um mombro com um novo nome\n",
        "\n",
        "reset = res -> Remover mensagens do documento\n",
        "\n",
        "hi on = hilite on -> Cores nos comandos\n",
        "\n",
        "F7 -> Subir a pagina\n",
        "\n",
        "F8 -> Descer a pagina \n",
        "\n",
        "st -> jobs\n",
        "\n",
        "s.a.8 -> \n",
        "\n",
        "m + F8 -> vai até o final da pagina\n",
        "\n",
        "m + F7 -> vai até o começo da pagina"
      ]
    },
    {
      "cell_type": "markdown",
      "metadata": {
        "id": "Qng1OYgZwJ3S"
      },
      "source": [
        "## TSO\n",
        "\n"
      ]
    },
    {
      "cell_type": "markdown",
      "metadata": {
        "id": "IZBGXJnz8C5s"
      },
      "source": [
        "### TSO Commands\n"
      ]
    },
    {
      "cell_type": "markdown",
      "metadata": {
        "id": "mCJ_LVkmu3Nn"
      },
      "source": [
        "lu -> list user\n",
        "\n",
        "e -> e alterar o nome do dataset cria um novo dataset"
      ]
    },
    {
      "cell_type": "markdown",
      "metadata": {
        "id": "IOv3tAtLu3Rp"
      },
      "source": [
        "## SDSF"
      ]
    },
    {
      "cell_type": "markdown",
      "metadata": {
        "id": "tdqWB_oUwR4U"
      },
      "source": [
        "### SDSF Comandos\n",
        "\n",
        "TSO LU {USUARIO} -> Procurar usuario\n",
        "\n",
        "SUBMIT = SUB -> executa a aplicação\n",
        "\n",
        "=3.4 -> \n",
        "\n",
        "? -> log"
      ]
    },
    {
      "cell_type": "markdown",
      "metadata": {
        "id": "E_kB-HZrxAn0"
      },
      "source": [
        "## Comandos RACF\n",
        "\n",
        "1.\tListar Usuário: LU = ListUser\n",
        "\n",
        "LU userid\n",
        "\n",
        "Listar mais de um usuário no mesmo comando:\n",
        "\n",
        "LU (userid1 userid2 userid3 userid4...) \n",
        "\n",
        "Listar usuário e segmentos definidos, ex.: TSO, OMVS, entre outros:\n",
        "\n",
        "LU userid TSO <- Lista o usuário e segmento TSO definido\n",
        "\n",
        "LU userid OMVS <- Lista o usuário e segmento OMVS definido\n",
        "\n",
        "LU userid TSO OMVS <- Lista o usuário e segmentos TSO e OMVS definidos\n",
        "\n",
        "Listar o usuário sem as informações do RACF, apenas de outros segmentos:\n",
        "\n",
        "LU userid NORACF ‘segmento’   ou   LU userid ‘segmento’ NORACF\n",
        "\n",
        "Ex.: Consultar apenas o segmento TSO do usuário:\n",
        "\n",
        "LU userid NORACF TSO   ou  LU userid TSO NORACF\n",
        "\n",
        "\n",
        "2.\tDefinir um userid: AU = ADDUSER\n",
        "\n",
        "AU userid NAME(‘NOME DO USUARIO’) DFLTGRP(gggggggg) OWNER(gggggggg) PASSWORD(pppppppp)\n",
        "\n",
        "AU userid NAME(‘NOME DO USUARIO’) DFLTGRP(gggggggg) OWNER(gggggggg) PASSPHRASE(ppppppppppppppp)\n",
        "\n",
        "Obs.: Verificar os segmentos a serem definidos (ex.: TSO, OVMS,CICS,...)\n",
        "\n",
        "\n",
        "3.\tDeletar um userid:\n",
        "\n",
        "DELUSER userid\n",
        "\n",
        "\n",
        "4.\tAlterar PASSWORD / PASSPHRASE: ALU = ALtUser\n",
        "\n",
        "ALU userid password(xxxxxxxx) \n",
        "\n",
        "ALU userid passphrase(xxxxxxxxxxxxxxx)\n",
        "\n",
        "\n",
        "5.\tDesbloquear e alterar a password/passphrase do user:\n",
        "\n",
        "ALU userid PASSWORD(pppppppp) RESUME\n",
        "\n",
        "ALU userid PASSPHRASE(ppppppppppppppp) RESUME\n",
        "\n",
        "\n",
        "6.\tRevogar (REVOKE) usuário: ALU = ALtUser\n",
        "\n",
        "ALU userid REVOKE\n",
        "\n",
        "\n",
        "7.\tRetirar o usário de REVOKE (desbloquear): ALU = ALtUser\n",
        "\n",
        "ALU userid RESUME\n",
        "\n",
        "\n",
        "8.\tConectar um userid a um grupo: CO = COnnect\n",
        "\n",
        "CO userid GROUP(yyyyyyyy) OWNER(yyyyyyyy)\n",
        "\n",
        "Obs: Verificar a regra estipulada para o OWNER.\n",
        "\n",
        "Obs.1: geralmente o OWNER deve ser o mesmo grupo informado no campo GROUP, se não for informado o OWNER, será vinculado o ID de quem executou o comando de CONNECT.\n",
        "\n",
        "\n",
        "9.\tRemover o usuário de um grupo: REmove\n",
        "\n",
        "RE userid GROUP(xxxxxxxx)\n",
        "\n",
        "\n",
        "10.\tRevogar um userid pelo DFLTGRP (DEFAULT-GROUP):\n",
        "\n",
        "CO userid GROUP(DFLTGRP) OWNER(DFLTGRP) REVOKE       <- user não irá conseguir se logar no terminal.\n",
        "\n",
        "\n",
        "11.\tREVOKE programado:\n",
        "\n",
        "CO userid GROUP(DFLTGRP) OWNER(DFLTGRP) REVOKE(MM/DD/YY)        <- a partir da 00h00m da data informada o usuário sera revogado, não conseguira logar no terminal.\n",
        "\n",
        "\n",
        "12.\tRetirar o REVOKE programado: NOREVOKE\n",
        "\n",
        "CO userid GROUP(DFLTGRP) OWNER(DFLTGRP) NOREVOKE\n",
        "\n",
        "\n",
        "13.\tRESUME no DEFAULT-GROUP:\n",
        "\n",
        "CO userid GROUP(DFLTGRP) OWNER(DFLTGRP) RESUME\n",
        "\n",
        "\n",
        "14.\tRESUME programado:\n",
        "\n",
        "CO userid GROUP(DFLTGRP) OWNER(DFLTGRP) RESUME(MM/DD/YY)    <- a partir da 00h00m da data informada o usuário sera desbloqueado.\n",
        "\n",
        "\n",
        "15.\tRetirar o RESUME programado: NORESUME\n",
        "\n",
        "CO userid GROUP(DFLTGRP) OWNER(DFLTGRP) NORESUME\n",
        "\n",
        "\n",
        "16.\tREVOKE e RESUME programado no mesmo comando:\n",
        "\n",
        "CO userid GROUP(DFLTGRP) OWNER(DFLTGRP) REVOKE(MM/DD/YY) RESUME(MM/DD/YY) \n",
        "\n",
        "17.\tComando para Listar um GRUPO (GROUP): ListGRP\n",
        "\n",
        "LG group-name\n",
        "\n",
        "\n",
        "18.\tCriar um grupo: ADDGROUP\n",
        "\n",
        "AG group-name SUPGROUP(superior-group-name) OWNER(owner) DATA(‘INSTALLATION-DATA’)\n",
        "\n",
        "Nota: Verificar os outros parametros a serem definidos, conforme request.\n",
        "Informação: o numero máximo de conexões de um grupo é aproximadamente 5957. \n",
        "Para grupos sem limite de conexões de usuários, deve-se incluir o UNIVERSAL no comando para criação do grupo. Os grupos definidos como UNIVERSAL não há limite para conexões de usuários.\n",
        "Ex.:\n",
        "\n",
        "AG group-name SUPGROUP(superior-group-name) OWNER(owner) DATA(‘INSTALLATION-DATA’) UNIVERSAL\n",
        "\n",
        "\n",
        "19.\tAlterar um grupo: ALTGROUP\n",
        "\n",
        "ALG group-name    <- verificar qual parametro sera alterado do grupo.\n",
        "Ex.: Alterar o SUPGROUP:\n",
        "\n",
        "ALG group-name SUPGROUP(new-superior-group-name) OWNER(owner)\n",
        "\n",
        "\n",
        "20.\tDeletar um grupo:\n",
        "\n",
        "DELGROUP group-name\n",
        "\n",
        "21.\tListar uma profile / recurso: RLIST\n",
        "\n",
        "RL class-name profile-name ALL\n",
        "Para Listar mais que uma profile no mesmo comando:\n",
        "\n",
        "RL class-name (profile1 profile2 profile3) ALL\n",
        "\n",
        "22.\tCriar uma profile/ recurso (general resources): RDEFINE\n",
        "\n",
        "RDEF class-name profile-name-create OWNER(owner)  UACC(xxxx) DATA(‘INSTALLATION-DATA’)\n",
        "\n",
        "UACC (universal access authority) = (NONE), (READ), (UPDATE), (CONTROL), ou (ALTER). Se não  for especificado um valor para UACC, o RACF usará NONE como default.\n",
        "\n",
        "Nota: sempre verificar o request e as regras para definição.\n",
        "**O comando RDEFINE não pode ser utilizado para definir usuários, grupos, data sets, certificates, certificate key rings, or certificate mappings.**\n",
        "\n",
        "23.\tConceder acesso: PERMIT\n",
        "\n",
        "PE profile-name CLASS(class-name) ID(id-name) ACCESS(XXXXXX)\n",
        "\n",
        "AC ou ACCESS: (READ), (ALTER), (UPDATE) e (CONTROL).\n",
        "\n",
        "** Atentar ao tipo de acesso que deverá ser concedido e ao request **\n",
        "\n",
        "24.\tRetirar a permissão de acesso a profile / recurso: DELETE\n",
        "\n",
        "PE profile-name CLASS(class-name) ID(id-name) DELETE\n",
        "*** Este comando não deleta profile/recurso, apenas remove o acesso concedido. ***\n",
        "\n",
        "25.\tAlterar uma profile / recurso: RALTER\n",
        "\n",
        "RAL class-name profile-name   <- verificar qual parametro será alterado.\n",
        "\n",
        "26.\tDeletar uma profile / recurso: RDELETE\n",
        "\n",
        "RDEL  class-name profile-name\n",
        "\n",
        "27.\tListar Dataset: LISTDSD\n",
        "\n",
        "LD DA(‘dataset-name’)\n",
        "\n",
        "LD DA(‘dataset-name’) AUTHUSER\n",
        "\n",
        "LD DA(‘dataset-name’)  GENERIC\n",
        "\n",
        "LD DA(‘dataset-name’)  NOGENERIC\n",
        "\n",
        "28.\tAdicionar um DATASET: ADDSD\n",
        "\n",
        "AD 'dataset-name.**' UACC(xxxx) AUDIT(ALL(xxxx))  <- verificar os outros parametros a serem definidos.\n",
        "\n",
        "29.\tAlterar um dataset: ALTDSD\n",
        "\n",
        "ALD ‘dataset-name’ <- verificar qual parametro devera ser alterado.\n",
        "\n",
        "30.\tDeletar um dataset: DELDSD\n",
        "\n",
        "DD ‘dataset-name' \n",
        "\n",
        "31.\tComando de SEARCH:\n",
        "\n",
        "SR CLASS(class-name) MASK(xxxx)\n",
        "\n",
        "SR CLASS(class-name) FILTER(xxxx)\n",
        "\n",
        "32.\tDuvidas sobre um comando? HELP:\n",
        "\n",
        "HELP\n",
        "\n",
        "HELP command SYNTAX\n",
        "EX.: HELP ALTUSER SYNTAX <- informações sobre a sintaxe do comando ALTUSER.\n",
        "\n",
        "----------------------------------------------------------------------------------------------------------------\n",
        "\n",
        "Todos os comandos acima podem ser consultados no link abaixo, lembrando que deve-se analisar o request/problem/incident/change para adicionar, alterar e/ou excluir algum parametro:\n",
        "https://www.ibm.com/support/knowledgecenter/SSLTBW_2.4.0/com.ibm.zos.v2r4.icha400/cmdsyn.htm"
      ]
    },
    {
      "cell_type": "markdown",
      "metadata": {
        "id": "at_UCXv20b7c"
      },
      "source": [
        "### Pesquisar Classes \n",
        "\n",
        "Perquisar classes RACF\n",
        "\n",
        "-Pesquisar por um grupo\n",
        "\n",
        "tso lg DSA0SYSI\n"
      ]
    },
    {
      "cell_type": "markdown",
      "metadata": {
        "id": "npQ4YEsTu3VS"
      },
      "source": [
        "## Procedimentos\n"
      ]
    },
    {
      "cell_type": "markdown",
      "metadata": {
        "id": "-pBX9T6Cm0ge"
      },
      "source": [
        "### Autenticação 2 Fatores (2MFA)\n",
        "\n"
      ]
    },
    {
      "cell_type": "markdown",
      "metadata": {
        "id": "A_fcR2qbv2S6"
      },
      "source": [
        "### Conectar em Grupos\n",
        "\n",
        "opção 6 do ISPF\n",
        "\n",
        "CO xxxxxxx GROUP(SDSFCMD) OWNER(CLASGEN)\n",
        "\n",
        "CO xxxxxxx GROUP(SDSFDISP) OWNER(CLASGEN)"
      ]
    },
    {
      "cell_type": "markdown",
      "metadata": {
        "id": "94qFS4eBv_2t"
      },
      "source": [
        "### Alterar ID\n",
        "\n",
        "na ZLF1 só dar um SJ no ALTUSER  JOB00465"
      ]
    },
    {
      "cell_type": "markdown",
      "metadata": {
        "id": "RQvTuX_lu3Y_"
      },
      "source": [
        "### Conectar"
      ]
    },
    {
      "cell_type": "markdown",
      "metadata": {
        "id": "f8RJV-8hmnHs"
      },
      "source": [
        "### Checando acessos\n",
        "\n",
        "Acessar sistema\n",
        "\n",
        "tso\n",
        "\n",
        "id\n",
        "\n",
        "pass\n",
        "\n",
        "lu br02943\n",
        "\n",
        "lg IBMBR#03"
      ]
    },
    {
      "cell_type": "markdown",
      "metadata": {
        "id": "AcggUcNWzoFU"
      },
      "source": [
        "### Novos DC\n",
        "\n",
        "ZQB1\n",
        "\n",
        "USLSZOS\n",
        "\n",
        "B\tUSLSZOS.RACF.CNTL\t\n",
        "\n",
        "E\tADDUSER\n",
        "\n",
        "F1 -> \tcheca se alguém está usando o dataset\n",
        "\n",
        "RESET\n",
        "\n",
        "HILITE ON\n",
        "\n",
        "C XXXXXX YYYYYY ALL - faz a troca em todo o documento\n",
        "\n",
        "alterar nome\n",
        "\n",
        "F2 - dividir tela\n",
        "\n",
        "F9 - trocar de tela\n",
        "\n",
        "F11 - ir para a direita\n",
        "\n",
        "CATALOG\n",
        "\n",
        "RELATE(SYS1.UCAT.C2ZBASE))\n",
        "\n",
        "CATALOG(SYS1.MCAT.VMC2MC1A)\n",
        "\n",
        "F3\n",
        "\n",
        "SDSF\n",
        "\n",
        "ST\n",
        "\n",
        "SUB ;  =SD; ST\n",
        "PRE 002943\n",
        "\n",
        "tso lu b002943 \n"
      ]
    },
    {
      "cell_type": "markdown",
      "metadata": {
        "id": "iBZ_zL200AbB"
      },
      "source": [
        "### Request DB2\n",
        "\n",
        "ishell -> checar use o request existe\n",
        "\n",
        "f2 -> split da tela\n",
        "\n",
        "f9 -> trocar de tela\n",
        "\n",
        "acessar ISPF e ir no RACF\n",
        "\n",
        "\n",
        "no mainframe as datas são Julianas\n"
      ]
    },
    {
      "cell_type": "markdown",
      "metadata": {
        "id": "xBV1yJ4z0std"
      },
      "source": [
        "### Atualizar Classe\n",
        "\n",
        "RDEF OPERCMDS  MVS.*.STC.TWS*.** owner(SYS1)  UACC(NONE)\n",
        "\n",
        "RDEF OPERCMDS  MVS.*.STC.TWS*.** owner(SYS1)  UACC(NONE)                          \n",
        "\n",
        "PE MVS.*.STC.TWS*.** CL(OPERCMDS) ID($TWSRACF R3S) ACCESS(UPDATE)\n",
        "\n",
        "PE MVS.*.STC.TWS*.** CL(OPERCMDS) ID(ZOSADMIN STGADMIN $TWSRACF) ACCESS(alter)\n",
        "\n",
        "tso setr raclist(opercmds) refresh \n",
        "\n",
        "tso setr generic(opercmds) refresh \n",
        "\n",
        "-tso rl oper mvs.*.stc.tws*.** ALL"
      ]
    },
    {
      "cell_type": "markdown",
      "metadata": {
        "id": "7CbcXyPIA__C"
      },
      "source": [
        "### Certificado Digital\n"
      ]
    },
    {
      "cell_type": "markdown",
      "metadata": {
        "id": "qmTkmN98BDZX"
      },
      "source": [
        "### Relatorios"
      ]
    },
    {
      "cell_type": "markdown",
      "metadata": {
        "id": "7H4X8Uoy6B_J"
      },
      "source": [
        "## ASO"
      ]
    },
    {
      "cell_type": "markdown",
      "metadata": {
        "id": "ezQL8tXO6Gzk"
      },
      "source": [
        "## CLAS"
      ]
    },
    {
      "cell_type": "markdown",
      "metadata": {
        "id": "smGKQRNr6KOc"
      },
      "source": [
        ""
      ]
    },
    {
      "cell_type": "markdown",
      "metadata": {
        "id": "hhWhj0L8t78V"
      },
      "source": [
        ""
      ]
    }
  ]
}